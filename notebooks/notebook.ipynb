{
 "cells": [
  {
   "cell_type": "code",
   "metadata": {
    "tags": [],
    "cell_id": "f34fae54-93fd-4da2-9e52-02c725500513",
    "deepnote_to_be_reexecuted": false,
    "source_hash": "78ed97fa",
    "execution_start": 1656562185105,
    "execution_millis": 7,
    "owner_user_id": "123bb80c-3b80-422b-b3c5-e22bb7fc4043",
    "deepnote_cell_type": "code",
    "deepnote_cell_height": 99
   },
   "source": "import pandas as pd \nimport numpy as np",
   "execution_count": 29,
   "outputs": []
  },
  {
   "cell_type": "code",
   "source": "df = pd.read_csv('bd.csv', sep=';')\ndf.columns\ndf.head()",
   "metadata": {
    "cell_id": "7348c53415c744bb93274284e11eccd3",
    "tags": [],
    "deepnote_to_be_reexecuted": false,
    "source_hash": "6c2b1ec6",
    "execution_start": 1656562185849,
    "execution_millis": 937,
    "deepnote_cell_type": "code",
    "deepnote_cell_height": 431,
    "deepnote_output_heights": [
     193.953125
    ]
   },
   "outputs": [
    {
     "output_type": "execute_result",
     "execution_count": 30,
     "data": {
      "application/vnd.deepnote.dataframe.v3+json": {
       "column_count": 30,
       "row_count": 5,
       "columns": [
        {
         "name": "index",
         "dtype": "int64",
         "stats": {
          "unique_count": 5,
          "nan_count": 0,
          "min": "0",
          "max": "9",
          "histogram": [
           {
            "bin_start": 0,
            "bin_end": 0.9,
            "count": 1
           },
           {
            "bin_start": 0.9,
            "bin_end": 1.8,
            "count": 0
           },
           {
            "bin_start": 1.8,
            "bin_end": 2.7,
            "count": 1
           },
           {
            "bin_start": 2.7,
            "bin_end": 3.6,
            "count": 0
           },
           {
            "bin_start": 3.6,
            "bin_end": 4.5,
            "count": 1
           },
           {
            "bin_start": 4.5,
            "bin_end": 5.4,
            "count": 0
           },
           {
            "bin_start": 5.4,
            "bin_end": 6.3,
            "count": 0
           },
           {
            "bin_start": 6.3,
            "bin_end": 7.2,
            "count": 0
           },
           {
            "bin_start": 7.2,
            "bin_end": 8.1,
            "count": 1
           },
           {
            "bin_start": 8.1,
            "bin_end": 9,
            "count": 1
           }
          ]
         }
        },
        {
         "name": "Tipo de estudio",
         "dtype": "object",
         "stats": {
          "unique_count": 2,
          "nan_count": 0,
          "categories": [
           {
            "name": "ESTABILIDAD NATURAL PLAN A 8 PERIODOS (36 MESES)",
            "count": 3
           },
           {
            "name": "ESTABILIDAD NATURAL PLAN A 7 PERIODOS (24 MESES)",
            "count": 2
           }
          ]
         }
        },
        {
         "name": "Código producto",
         "dtype": "int64",
         "stats": {
          "unique_count": 2,
          "nan_count": 0,
          "min": "700948",
          "max": "800617",
          "histogram": [
           {
            "bin_start": 700948,
            "bin_end": 710914.9,
            "count": 2
           },
           {
            "bin_start": 710914.9,
            "bin_end": 720881.8,
            "count": 0
           },
           {
            "bin_start": 720881.8,
            "bin_end": 730848.7,
            "count": 0
           },
           {
            "bin_start": 730848.7,
            "bin_end": 740815.6,
            "count": 0
           },
           {
            "bin_start": 740815.6,
            "bin_end": 750782.5,
            "count": 0
           },
           {
            "bin_start": 750782.5,
            "bin_end": 760749.4,
            "count": 0
           },
           {
            "bin_start": 760749.4,
            "bin_end": 770716.3,
            "count": 0
           },
           {
            "bin_start": 770716.3,
            "bin_end": 780683.2,
            "count": 0
           },
           {
            "bin_start": 780683.2,
            "bin_end": 790650.1,
            "count": 0
           },
           {
            "bin_start": 790650.1,
            "bin_end": 800617,
            "count": 3
           }
          ]
         }
        },
        {
         "name": "Descripción_x",
         "dtype": "object",
         "stats": {
          "unique_count": 2,
          "nan_count": 0,
          "categories": [
           {
            "name": "BONFIEST  PLUS x18SOB PLEx18SOB",
            "count": 3
           },
           {
            "name": "AMOXICILINA 400 MG+A. CLAV 57 MG FCO x100mL",
            "count": 2
           }
          ]
         }
        },
        {
         "name": "Concentración_x",
         "dtype": "object",
         "stats": {
          "unique_count": 0,
          "nan_count": 5,
          "categories": [
           {
            "name": "Missing",
            "count": 5
           }
          ]
         }
        },
        {
         "name": "Forma farmacéutica_x",
         "dtype": "object",
         "stats": {
          "unique_count": 2,
          "nan_count": 0,
          "categories": [
           {
            "name": "SOB",
            "count": 3
           },
           {
            "name": "SUSP MK",
            "count": 2
           }
          ]
         }
        },
        {
         "name": "Presentación_x",
         "dtype": "object",
         "stats": {
          "unique_count": 2,
          "nan_count": 0,
          "categories": [
           {
            "name": "PLEx18SOB",
            "count": 3
           },
           {
            "name": "FCO x100mL",
            "count": 2
           }
          ]
         }
        },
        {
         "name": "Estudio de estabilidad",
         "dtype": "object",
         "stats": {
          "unique_count": 2,
          "nan_count": 0,
          "categories": [
           {
            "name": " 9D7099",
            "count": 3
           },
           {
            "name": "3700720",
            "count": 2
           }
          ]
         }
        },
        {
         "name": "Fecha inicio estudio",
         "dtype": "object",
         "stats": {
          "unique_count": 2,
          "nan_count": 0,
          "categories": [
           {
            "name": "2019-05-11 00:00:00",
            "count": 3
           },
           {
            "name": "2020-09-14 00:00:00",
            "count": 2
           }
          ]
         }
        },
        {
         "name": "Número de lote_x",
         "dtype": "object",
         "stats": {
          "unique_count": 2,
          "nan_count": 0,
          "categories": [
           {
            "name": " 9D7099",
            "count": 3
           },
           {
            "name": "3700720",
            "count": 2
           }
          ]
         }
        },
        {
         "name": "Tamaño de lote",
         "dtype": "object",
         "stats": {
          "unique_count": 2,
          "nan_count": 0,
          "categories": [
           {
            "name": "127308 UNIDADES",
            "count": 3
           },
           {
            "name": "4118 Unidades",
            "count": 2
           }
          ]
         }
        },
        {
         "name": "Condición de almacenamiento",
         "dtype": "object",
         "stats": {
          "unique_count": 2,
          "nan_count": 0,
          "categories": [
           {
            "name": "30 ºC ± 2 ºC  Y  65 % HR ± 5 % HR",
            "count": 3
           },
           {
            "name": "30 ºC ± 2 ºC  Y  75 % HR ± 5 % HR",
            "count": 2
           }
          ]
         }
        },
        {
         "name": "Parámetro",
         "dtype": "object",
         "stats": {
          "unique_count": 5,
          "nan_count": 0,
          "categories": [
           {
            "name": "ENSAYO - Bicarbonato de Sodio 2.259 g/SOB a 2.761 g/SOB",
            "count": 1
           },
           {
            "name": "ENSAYO - Acido Acetilsalicilico 585 mg/SOB a 715 mg/SOB",
            "count": 1
           },
           {
            "name": "3 others",
            "count": 3
           }
          ]
         }
        },
        {
         "name": "Especificación",
         "dtype": "object",
         "stats": {
          "unique_count": 5,
          "nan_count": 0,
          "categories": [
           {
            "name": "2.259 G/SOB A 2.761 G/SOB",
            "count": 1
           },
           {
            "name": "585 MG/SOB A 715 MG/SOB",
            "count": 1
           },
           {
            "name": "3 others",
            "count": 3
           }
          ]
         }
        },
        {
         "name": "COD GRANEL",
         "dtype": "float64",
         "stats": {
          "unique_count": 2,
          "nan_count": 0,
          "min": "10033062.0",
          "max": "41005136.0",
          "histogram": [
           {
            "bin_start": 10033062,
            "bin_end": 13130269.4,
            "count": 2
           },
           {
            "bin_start": 13130269.4,
            "bin_end": 16227476.8,
            "count": 0
           },
           {
            "bin_start": 16227476.8,
            "bin_end": 19324684.2,
            "count": 0
           },
           {
            "bin_start": 19324684.2,
            "bin_end": 22421891.6,
            "count": 0
           },
           {
            "bin_start": 22421891.6,
            "bin_end": 25519099,
            "count": 0
           },
           {
            "bin_start": 25519099,
            "bin_end": 28616306.4,
            "count": 0
           },
           {
            "bin_start": 28616306.4,
            "bin_end": 31713513.8,
            "count": 0
           },
           {
            "bin_start": 31713513.8,
            "bin_end": 34810721.2,
            "count": 0
           },
           {
            "bin_start": 34810721.2,
            "bin_end": 37907928.599999994,
            "count": 0
           },
           {
            "bin_start": 37907928.599999994,
            "bin_end": 41005136,
            "count": 3
           }
          ]
         }
        },
        {
         "name": "DESCRIPCION_x",
         "dtype": "object",
         "stats": {
          "unique_count": 2,
          "nan_count": 0,
          "categories": [
           {
            "name": "G-BONFIEST LUA PLUS",
            "count": 3
           },
           {
            "name": "G-AMOXICILINA 400 MG + ACIDO CLAVULANICO 57 MG SUSP MK",
            "count": 2
           }
          ]
         }
        },
        {
         "name": "UP",
         "dtype": "object",
         "stats": {
          "unique_count": 1,
          "nan_count": 0,
          "categories": [
           {
            "name": "SOLIDOS",
            "count": 5
           }
          ]
         }
        },
        {
         "name": "Número de lote_y",
         "dtype": "object",
         "stats": {
          "unique_count": 2,
          "nan_count": 0,
          "categories": [
           {
            "name": " 9D7099",
            "count": 3
           },
           {
            "name": "2030420",
            "count": 2
           }
          ]
         }
        },
        {
         "name": "NumeroPeriodosToma",
         "dtype": "int64",
         "stats": {
          "unique_count": 1,
          "nan_count": 0,
          "min": "5",
          "max": "5",
          "histogram": [
           {
            "bin_start": 4.5,
            "bin_end": 4.6,
            "count": 0
           },
           {
            "bin_start": 4.6,
            "bin_end": 4.7,
            "count": 0
           },
           {
            "bin_start": 4.7,
            "bin_end": 4.8,
            "count": 0
           },
           {
            "bin_start": 4.8,
            "bin_end": 4.9,
            "count": 0
           },
           {
            "bin_start": 4.9,
            "bin_end": 5,
            "count": 0
           },
           {
            "bin_start": 5,
            "bin_end": 5.1,
            "count": 5
           },
           {
            "bin_start": 5.1,
            "bin_end": 5.2,
            "count": 0
           },
           {
            "bin_start": 5.2,
            "bin_end": 5.3,
            "count": 0
           },
           {
            "bin_start": 5.3,
            "bin_end": 5.4,
            "count": 0
           },
           {
            "bin_start": 5.4,
            "bin_end": 5.5,
            "count": 0
           }
          ]
         }
        },
        {
         "name": "Minimo",
         "dtype": "float64",
         "stats": {
          "unique_count": 4,
          "nan_count": 0,
          "min": "2.259",
          "max": "585.0",
          "histogram": [
           {
            "bin_start": 2.259,
            "bin_end": 60.5331,
            "count": 2
           },
           {
            "bin_start": 60.5331,
            "bin_end": 118.8072,
            "count": 2
           },
           {
            "bin_start": 118.8072,
            "bin_end": 177.08129999999997,
            "count": 0
           },
           {
            "bin_start": 177.08129999999997,
            "bin_end": 235.35539999999997,
            "count": 0
           },
           {
            "bin_start": 235.35539999999997,
            "bin_end": 293.6295,
            "count": 0
           },
           {
            "bin_start": 293.6295,
            "bin_end": 351.9036,
            "count": 0
           },
           {
            "bin_start": 351.9036,
            "bin_end": 410.1777,
            "count": 0
           },
           {
            "bin_start": 410.1777,
            "bin_end": 468.4518,
            "count": 0
           },
           {
            "bin_start": 468.4518,
            "bin_end": 526.7259,
            "count": 0
           },
           {
            "bin_start": 526.7259,
            "bin_end": 585,
            "count": 1
           }
          ]
         }
        },
        {
         "name": "Maximo",
         "dtype": "float64",
         "stats": {
          "unique_count": 5,
          "nan_count": 0,
          "min": "2.761",
          "max": "715.0",
          "histogram": [
           {
            "bin_start": 2.761,
            "bin_end": 73.9849,
            "count": 2
           },
           {
            "bin_start": 73.9849,
            "bin_end": 145.2088,
            "count": 2
           },
           {
            "bin_start": 145.2088,
            "bin_end": 216.43269999999998,
            "count": 0
           },
           {
            "bin_start": 216.43269999999998,
            "bin_end": 287.6566,
            "count": 0
           },
           {
            "bin_start": 287.6566,
            "bin_end": 358.88050000000004,
            "count": 0
           },
           {
            "bin_start": 358.88050000000004,
            "bin_end": 430.1044,
            "count": 0
           },
           {
            "bin_start": 430.1044,
            "bin_end": 501.3283,
            "count": 0
           },
           {
            "bin_start": 501.3283,
            "bin_end": 572.5522,
            "count": 0
           },
           {
            "bin_start": 572.5522,
            "bin_end": 643.7760999999999,
            "count": 0
           },
           {
            "bin_start": 643.7760999999999,
            "bin_end": 715,
            "count": 1
           }
          ]
         }
        },
        {
         "name": "variable_fecha",
         "dtype": "object",
         "stats": {
          "unique_count": 1,
          "nan_count": 0,
          "categories": [
           {
            "name": "Fecha mes 0",
            "count": 5
           }
          ]
         }
        },
        {
         "name": "value_fecha",
         "dtype": "object",
         "stats": {
          "unique_count": 2,
          "nan_count": 0,
          "categories": [
           {
            "name": "2020-04-08 00:00:00",
            "count": 3
           },
           {
            "name": "2021-04-20 00:00:00",
            "count": 2
           }
          ]
         }
        },
        {
         "name": "Key_fecha",
         "dtype": "object",
         "stats": {
          "unique_count": 5,
          "nan_count": 0,
          "categories": [
           {
            "name": " 9D7099ENSAYO - Bicarbonato de Sodio 2.259 g/SOB a 2.761 g/SOB2.259 G/SOB A 2.761 G/SOBFecha mes 0",
            "count": 1
           },
           {
            "name": " 9D7099ENSAYO - Acido Acetilsalicilico 585 mg/SOB a 715 mg/SOB585 MG/SOB A 715 MG/SOBFecha mes 0",
            "count": 1
           },
           {
            "name": "3 others",
            "count": 3
           }
          ]
         }
        },
        {
         "name": "variable_resultado",
         "dtype": "object",
         "stats": {
          "unique_count": 1,
          "nan_count": 0,
          "categories": [
           {
            "name": "mes 0",
            "count": 5
           }
          ]
         }
        },
        {
         "name": "value_resultado",
         "dtype": "object",
         "stats": {
          "unique_count": 5,
          "nan_count": 0,
          "categories": [
           {
            "name": "2.715",
            "count": 1
           },
           {
            "name": "663.7",
            "count": 1
           },
           {
            "name": "3 others",
            "count": 3
           }
          ]
         }
        },
        {
         "name": "Key_resultado",
         "dtype": "object",
         "stats": {
          "unique_count": 5,
          "nan_count": 0,
          "categories": [
           {
            "name": " 9D7099ENSAYO - Bicarbonato de Sodio 2.259 g/SOB a 2.761 g/SOB2.259 G/SOB A 2.761 G/SOBmes 0",
            "count": 1
           },
           {
            "name": " 9D7099ENSAYO - Acido Acetilsalicilico 585 mg/SOB a 715 mg/SOB585 MG/SOB A 715 MG/SOBmes 0",
            "count": 1
           },
           {
            "name": "3 others",
            "count": 3
           }
          ]
         }
        },
        {
         "name": "Dentro_Rango",
         "dtype": "object",
         "stats": {
          "unique_count": 1,
          "nan_count": 0,
          "categories": [
           {
            "name": "Si",
            "count": 5
           }
          ]
         }
        },
        {
         "name": "DESCRIPCION_y",
         "dtype": "object",
         "stats": {
          "unique_count": 2,
          "nan_count": 0,
          "categories": [
           {
            "name": "G-BONFIEST LUA PLUS",
            "count": 3
           },
           {
            "name": "G-AMOXICILINA 400 MG + ACIDO CLAVULANICO 57 MG SUSP MK",
            "count": 2
           }
          ]
         }
        },
        {
         "name": "ATC",
         "dtype": "object",
         "stats": {
          "unique_count": 2,
          "nan_count": 0,
          "categories": [
           {
            "name": "N",
            "count": 3
           },
           {
            "name": "J",
            "count": 2
           }
          ]
         }
        },
        {
         "name": "_deepnote_index_column",
         "dtype": "int64"
        }
       ],
       "rows": [
        {
         "index": 0,
         "Tipo de estudio": "ESTABILIDAD NATURAL PLAN A 8 PERIODOS (36 MESES)",
         "Código producto": 800617,
         "Descripción_x": "BONFIEST  PLUS x18SOB PLEx18SOB",
         "Concentración_x": "nan",
         "Forma farmacéutica_x": "SOB",
         "Presentación_x": "PLEx18SOB",
         "Estudio de estabilidad": " 9D7099",
         "Fecha inicio estudio": "2019-05-11 00:00:00",
         "Número de lote_x": " 9D7099",
         "Tamaño de lote": "127308 UNIDADES",
         "Condición de almacenamiento": "30 ºC ± 2 ºC  Y  65 % HR ± 5 % HR",
         "Parámetro": "ENSAYO - Bicarbonato de Sodio 2.259 g/SOB a 2.761 g/SOB",
         "Especificación": "2.259 G/SOB A 2.761 G/SOB",
         "COD GRANEL": 41005136,
         "DESCRIPCION_x": "G-BONFIEST LUA PLUS",
         "UP": "SOLIDOS",
         "Número de lote_y": " 9D7099",
         "NumeroPeriodosToma": 5,
         "Minimo": 2.259,
         "Maximo": 2.761,
         "variable_fecha": "Fecha mes 0",
         "value_fecha": "2020-04-08 00:00:00",
         "Key_fecha": " 9D7099ENSAYO - Bicarbonato de Sodio 2.259 g/SOB a 2.761 g/SOB2.259 G/SOB A 2.761 G/SOBFecha mes 0",
         "variable_resultado": "mes 0",
         "value_resultado": "2.715",
         "Key_resultado": " 9D7099ENSAYO - Bicarbonato de Sodio 2.259 g/SOB a 2.761 g/SOB2.259 G/SOB A 2.761 G/SOBmes 0",
         "Dentro_Rango": "Si",
         "DESCRIPCION_y": "G-BONFIEST LUA PLUS",
         "ATC": "N",
         "_deepnote_index_column": 0
        },
        {
         "index": 2,
         "Tipo de estudio": "ESTABILIDAD NATURAL PLAN A 8 PERIODOS (36 MESES)",
         "Código producto": 800617,
         "Descripción_x": "BONFIEST  PLUS x18SOB PLEx18SOB",
         "Concentración_x": "nan",
         "Forma farmacéutica_x": "SOB",
         "Presentación_x": "PLEx18SOB",
         "Estudio de estabilidad": " 9D7099",
         "Fecha inicio estudio": "2019-05-11 00:00:00",
         "Número de lote_x": " 9D7099",
         "Tamaño de lote": "127308 UNIDADES",
         "Condición de almacenamiento": "30 ºC ± 2 ºC  Y  65 % HR ± 5 % HR",
         "Parámetro": "ENSAYO - Acido Acetilsalicilico 585 mg/SOB a 715 mg/SOB",
         "Especificación": "585 MG/SOB A 715 MG/SOB",
         "COD GRANEL": 41005136,
         "DESCRIPCION_x": "G-BONFIEST LUA PLUS",
         "UP": "SOLIDOS",
         "Número de lote_y": " 9D7099",
         "NumeroPeriodosToma": 5,
         "Minimo": 585,
         "Maximo": 715,
         "variable_fecha": "Fecha mes 0",
         "value_fecha": "2020-04-08 00:00:00",
         "Key_fecha": " 9D7099ENSAYO - Acido Acetilsalicilico 585 mg/SOB a 715 mg/SOB585 MG/SOB A 715 MG/SOBFecha mes 0",
         "variable_resultado": "mes 0",
         "value_resultado": "663.7",
         "Key_resultado": " 9D7099ENSAYO - Acido Acetilsalicilico 585 mg/SOB a 715 mg/SOB585 MG/SOB A 715 MG/SOBmes 0",
         "Dentro_Rango": "Si",
         "DESCRIPCION_y": "G-BONFIEST LUA PLUS",
         "ATC": "N",
         "_deepnote_index_column": 1
        },
        {
         "index": 4,
         "Tipo de estudio": "ESTABILIDAD NATURAL PLAN A 8 PERIODOS (36 MESES)",
         "Código producto": 800617,
         "Descripción_x": "BONFIEST  PLUS x18SOB PLEx18SOB",
         "Concentración_x": "nan",
         "Forma farmacéutica_x": "SOB",
         "Presentación_x": "PLEx18SOB",
         "Estudio de estabilidad": " 9D7099",
         "Fecha inicio estudio": "2019-05-11 00:00:00",
         "Número de lote_x": " 9D7099",
         "Tamaño de lote": "127308 UNIDADES",
         "Condición de almacenamiento": "30 ºC ± 2 ºC  Y  65 % HR ± 5 % HR",
         "Parámetro": "ENSAYO - Cafeina Anhidra 58.5 mg/SOB a 71.5 mg/SOB",
         "Especificación": "58.5 MG/SOB A 71.5 MG/SOB",
         "COD GRANEL": 41005136,
         "DESCRIPCION_x": "G-BONFIEST LUA PLUS",
         "UP": "SOLIDOS",
         "Número de lote_y": " 9D7099",
         "NumeroPeriodosToma": 5,
         "Minimo": 58.5,
         "Maximo": 71.5,
         "variable_fecha": "Fecha mes 0",
         "value_fecha": "2020-04-08 00:00:00",
         "Key_fecha": " 9D7099ENSAYO - Cafeina Anhidra 58.5 mg/SOB a 71.5 mg/SOB58.5 MG/SOB A 71.5 MG/SOBFecha mes 0",
         "variable_resultado": "mes 0",
         "value_resultado": "66.7",
         "Key_resultado": " 9D7099ENSAYO - Cafeina Anhidra 58.5 mg/SOB a 71.5 mg/SOB58.5 MG/SOB A 71.5 MG/SOBmes 0",
         "Dentro_Rango": "Si",
         "DESCRIPCION_y": "G-BONFIEST LUA PLUS",
         "ATC": "N",
         "_deepnote_index_column": 2
        },
        {
         "index": 8,
         "Tipo de estudio": "ESTABILIDAD NATURAL PLAN A 7 PERIODOS (24 MESES)",
         "Código producto": 700948,
         "Descripción_x": "AMOXICILINA 400 MG+A. CLAV 57 MG FCO x100mL",
         "Concentración_x": "nan",
         "Forma farmacéutica_x": "SUSP MK",
         "Presentación_x": "FCO x100mL",
         "Estudio de estabilidad": "3700720",
         "Fecha inicio estudio": "2020-09-14 00:00:00",
         "Número de lote_x": "3700720",
         "Tamaño de lote": "4118 Unidades",
         "Condición de almacenamiento": "30 ºC ± 2 ºC  Y  75 % HR ± 5 % HR",
         "Parámetro": "ENSAYO - Amoxicilina (USP VIGENTE)\t90.0 % - 120.0 %",
         "Especificación": " LSE = 120.0 %;  LIE = 90.0 %; ",
         "COD GRANEL": 10033062,
         "DESCRIPCION_x": "G-AMOXICILINA 400 MG + ACIDO CLAVULANICO 57 MG SUSP MK",
         "UP": "SOLIDOS",
         "Número de lote_y": "2030420",
         "NumeroPeriodosToma": 5,
         "Minimo": 90,
         "Maximo": 120,
         "variable_fecha": "Fecha mes 0",
         "value_fecha": "2021-04-20 00:00:00",
         "Key_fecha": "3700720ENSAYO - Amoxicilina (USP VIGENTE)\t90.0 % - 120.0 % LSE = 120.0 %;  LIE = 90.0 %; Fecha mes 0",
         "variable_resultado": "mes 0",
         "value_resultado": "104.4",
         "Key_resultado": "3700720ENSAYO - Amoxicilina (USP VIGENTE)\t90.0 % - 120.0 % LSE = 120.0 %;  LIE = 90.0 %; mes 0",
         "Dentro_Rango": "Si",
         "DESCRIPCION_y": "G-AMOXICILINA 400 MG + ACIDO CLAVULANICO 57 MG SUSP MK",
         "ATC": "J",
         "_deepnote_index_column": 3
        },
        {
         "index": 9,
         "Tipo de estudio": "ESTABILIDAD NATURAL PLAN A 7 PERIODOS (24 MESES)",
         "Código producto": 700948,
         "Descripción_x": "AMOXICILINA 400 MG+A. CLAV 57 MG FCO x100mL",
         "Concentración_x": "nan",
         "Forma farmacéutica_x": "SUSP MK",
         "Presentación_x": "FCO x100mL",
         "Estudio de estabilidad": "3700720",
         "Fecha inicio estudio": "2020-09-14 00:00:00",
         "Número de lote_x": "3700720",
         "Tamaño de lote": "4118 Unidades",
         "Condición de almacenamiento": "30 ºC ± 2 ºC  Y  75 % HR ± 5 % HR",
         "Parámetro": "ENSAYO - Acido Clavulanico (USP VIGENTE) 90.0 % - 125.0 %",
         "Especificación": " LSE = 125.0 %;  LIE = 90.0 %; ",
         "COD GRANEL": 10033062,
         "DESCRIPCION_x": "G-AMOXICILINA 400 MG + ACIDO CLAVULANICO 57 MG SUSP MK",
         "UP": "SOLIDOS",
         "Número de lote_y": "2030420",
         "NumeroPeriodosToma": 5,
         "Minimo": 90,
         "Maximo": 125,
         "variable_fecha": "Fecha mes 0",
         "value_fecha": "2021-04-20 00:00:00",
         "Key_fecha": "3700720ENSAYO - Acido Clavulanico (USP VIGENTE) 90.0 % - 125.0 % LSE = 125.0 %;  LIE = 90.0 %; Fecha mes 0",
         "variable_resultado": "mes 0",
         "value_resultado": "117.9",
         "Key_resultado": "3700720ENSAYO - Acido Clavulanico (USP VIGENTE) 90.0 % - 125.0 % LSE = 125.0 %;  LIE = 90.0 %; mes 0",
         "Dentro_Rango": "Si",
         "DESCRIPCION_y": "G-AMOXICILINA 400 MG + ACIDO CLAVULANICO 57 MG SUSP MK",
         "ATC": "J",
         "_deepnote_index_column": 4
        }
       ]
      },
      "text/plain": "   index                                   Tipo de estudio  Código producto  \\\n0      0  ESTABILIDAD NATURAL PLAN A 8 PERIODOS (36 MESES)           800617   \n1      2  ESTABILIDAD NATURAL PLAN A 8 PERIODOS (36 MESES)           800617   \n2      4  ESTABILIDAD NATURAL PLAN A 8 PERIODOS (36 MESES)           800617   \n3      8  ESTABILIDAD NATURAL PLAN A 7 PERIODOS (24 MESES)           700948   \n4      9  ESTABILIDAD NATURAL PLAN A 7 PERIODOS (24 MESES)           700948   \n\n                                 Descripción_x Concentración_x  \\\n0              BONFIEST  PLUS x18SOB PLEx18SOB             NaN   \n1              BONFIEST  PLUS x18SOB PLEx18SOB             NaN   \n2              BONFIEST  PLUS x18SOB PLEx18SOB             NaN   \n3  AMOXICILINA 400 MG+A. CLAV 57 MG FCO x100mL             NaN   \n4  AMOXICILINA 400 MG+A. CLAV 57 MG FCO x100mL             NaN   \n\n  Forma farmacéutica_x Presentación_x Estudio de estabilidad  \\\n0                  SOB      PLEx18SOB                 9D7099   \n1                  SOB      PLEx18SOB                 9D7099   \n2                  SOB      PLEx18SOB                 9D7099   \n3              SUSP MK     FCO x100mL                3700720   \n4              SUSP MK     FCO x100mL                3700720   \n\n  Fecha inicio estudio Número de lote_x  ...   Maximo variable_fecha  \\\n0  2019-05-11 00:00:00           9D7099  ...    2.761    Fecha mes 0   \n1  2019-05-11 00:00:00           9D7099  ...  715.000    Fecha mes 0   \n2  2019-05-11 00:00:00           9D7099  ...   71.500    Fecha mes 0   \n3  2020-09-14 00:00:00          3700720  ...  120.000    Fecha mes 0   \n4  2020-09-14 00:00:00          3700720  ...  125.000    Fecha mes 0   \n\n           value_fecha                                          Key_fecha  \\\n0  2020-04-08 00:00:00   9D7099ENSAYO - Bicarbonato de Sodio 2.259 g/S...   \n1  2020-04-08 00:00:00   9D7099ENSAYO - Acido Acetilsalicilico 585 mg/...   \n2  2020-04-08 00:00:00   9D7099ENSAYO - Cafeina Anhidra 58.5 mg/SOB a ...   \n3  2021-04-20 00:00:00  3700720ENSAYO - Amoxicilina (USP VIGENTE)\\t90....   \n4  2021-04-20 00:00:00  3700720ENSAYO - Acido Clavulanico (USP VIGENTE...   \n\n   variable_resultado value_resultado  \\\n0               mes 0           2.715   \n1               mes 0           663.7   \n2               mes 0            66.7   \n3               mes 0           104.4   \n4               mes 0           117.9   \n\n                                       Key_resultado Dentro_Rango  \\\n0   9D7099ENSAYO - Bicarbonato de Sodio 2.259 g/S...           Si   \n1   9D7099ENSAYO - Acido Acetilsalicilico 585 mg/...           Si   \n2   9D7099ENSAYO - Cafeina Anhidra 58.5 mg/SOB a ...           Si   \n3  3700720ENSAYO - Amoxicilina (USP VIGENTE)\\t90....           Si   \n4  3700720ENSAYO - Acido Clavulanico (USP VIGENTE...           Si   \n\n                                       DESCRIPCION_y  ATC  \n0                                G-BONFIEST LUA PLUS    N  \n1                                G-BONFIEST LUA PLUS    N  \n2                                G-BONFIEST LUA PLUS    N  \n3  G-AMOXICILINA 400 MG + ACIDO CLAVULANICO 57 MG...    J  \n4  G-AMOXICILINA 400 MG + ACIDO CLAVULANICO 57 MG...    J  \n\n[5 rows x 30 columns]",
      "text/html": "<div>\n<style scoped>\n    .dataframe tbody tr th:only-of-type {\n        vertical-align: middle;\n    }\n\n    .dataframe tbody tr th {\n        vertical-align: top;\n    }\n\n    .dataframe thead th {\n        text-align: right;\n    }\n</style>\n<table border=\"1\" class=\"dataframe\">\n  <thead>\n    <tr style=\"text-align: right;\">\n      <th></th>\n      <th>index</th>\n      <th>Tipo de estudio</th>\n      <th>Código producto</th>\n      <th>Descripción_x</th>\n      <th>Concentración_x</th>\n      <th>Forma farmacéutica_x</th>\n      <th>Presentación_x</th>\n      <th>Estudio de estabilidad</th>\n      <th>Fecha inicio estudio</th>\n      <th>Número de lote_x</th>\n      <th>...</th>\n      <th>Maximo</th>\n      <th>variable_fecha</th>\n      <th>value_fecha</th>\n      <th>Key_fecha</th>\n      <th>variable_resultado</th>\n      <th>value_resultado</th>\n      <th>Key_resultado</th>\n      <th>Dentro_Rango</th>\n      <th>DESCRIPCION_y</th>\n      <th>ATC</th>\n    </tr>\n  </thead>\n  <tbody>\n    <tr>\n      <th>0</th>\n      <td>0</td>\n      <td>ESTABILIDAD NATURAL PLAN A 8 PERIODOS (36 MESES)</td>\n      <td>800617</td>\n      <td>BONFIEST  PLUS x18SOB PLEx18SOB</td>\n      <td>NaN</td>\n      <td>SOB</td>\n      <td>PLEx18SOB</td>\n      <td>9D7099</td>\n      <td>2019-05-11 00:00:00</td>\n      <td>9D7099</td>\n      <td>...</td>\n      <td>2.761</td>\n      <td>Fecha mes 0</td>\n      <td>2020-04-08 00:00:00</td>\n      <td>9D7099ENSAYO - Bicarbonato de Sodio 2.259 g/S...</td>\n      <td>mes 0</td>\n      <td>2.715</td>\n      <td>9D7099ENSAYO - Bicarbonato de Sodio 2.259 g/S...</td>\n      <td>Si</td>\n      <td>G-BONFIEST LUA PLUS</td>\n      <td>N</td>\n    </tr>\n    <tr>\n      <th>1</th>\n      <td>2</td>\n      <td>ESTABILIDAD NATURAL PLAN A 8 PERIODOS (36 MESES)</td>\n      <td>800617</td>\n      <td>BONFIEST  PLUS x18SOB PLEx18SOB</td>\n      <td>NaN</td>\n      <td>SOB</td>\n      <td>PLEx18SOB</td>\n      <td>9D7099</td>\n      <td>2019-05-11 00:00:00</td>\n      <td>9D7099</td>\n      <td>...</td>\n      <td>715.000</td>\n      <td>Fecha mes 0</td>\n      <td>2020-04-08 00:00:00</td>\n      <td>9D7099ENSAYO - Acido Acetilsalicilico 585 mg/...</td>\n      <td>mes 0</td>\n      <td>663.7</td>\n      <td>9D7099ENSAYO - Acido Acetilsalicilico 585 mg/...</td>\n      <td>Si</td>\n      <td>G-BONFIEST LUA PLUS</td>\n      <td>N</td>\n    </tr>\n    <tr>\n      <th>2</th>\n      <td>4</td>\n      <td>ESTABILIDAD NATURAL PLAN A 8 PERIODOS (36 MESES)</td>\n      <td>800617</td>\n      <td>BONFIEST  PLUS x18SOB PLEx18SOB</td>\n      <td>NaN</td>\n      <td>SOB</td>\n      <td>PLEx18SOB</td>\n      <td>9D7099</td>\n      <td>2019-05-11 00:00:00</td>\n      <td>9D7099</td>\n      <td>...</td>\n      <td>71.500</td>\n      <td>Fecha mes 0</td>\n      <td>2020-04-08 00:00:00</td>\n      <td>9D7099ENSAYO - Cafeina Anhidra 58.5 mg/SOB a ...</td>\n      <td>mes 0</td>\n      <td>66.7</td>\n      <td>9D7099ENSAYO - Cafeina Anhidra 58.5 mg/SOB a ...</td>\n      <td>Si</td>\n      <td>G-BONFIEST LUA PLUS</td>\n      <td>N</td>\n    </tr>\n    <tr>\n      <th>3</th>\n      <td>8</td>\n      <td>ESTABILIDAD NATURAL PLAN A 7 PERIODOS (24 MESES)</td>\n      <td>700948</td>\n      <td>AMOXICILINA 400 MG+A. CLAV 57 MG FCO x100mL</td>\n      <td>NaN</td>\n      <td>SUSP MK</td>\n      <td>FCO x100mL</td>\n      <td>3700720</td>\n      <td>2020-09-14 00:00:00</td>\n      <td>3700720</td>\n      <td>...</td>\n      <td>120.000</td>\n      <td>Fecha mes 0</td>\n      <td>2021-04-20 00:00:00</td>\n      <td>3700720ENSAYO - Amoxicilina (USP VIGENTE)\\t90....</td>\n      <td>mes 0</td>\n      <td>104.4</td>\n      <td>3700720ENSAYO - Amoxicilina (USP VIGENTE)\\t90....</td>\n      <td>Si</td>\n      <td>G-AMOXICILINA 400 MG + ACIDO CLAVULANICO 57 MG...</td>\n      <td>J</td>\n    </tr>\n    <tr>\n      <th>4</th>\n      <td>9</td>\n      <td>ESTABILIDAD NATURAL PLAN A 7 PERIODOS (24 MESES)</td>\n      <td>700948</td>\n      <td>AMOXICILINA 400 MG+A. CLAV 57 MG FCO x100mL</td>\n      <td>NaN</td>\n      <td>SUSP MK</td>\n      <td>FCO x100mL</td>\n      <td>3700720</td>\n      <td>2020-09-14 00:00:00</td>\n      <td>3700720</td>\n      <td>...</td>\n      <td>125.000</td>\n      <td>Fecha mes 0</td>\n      <td>2021-04-20 00:00:00</td>\n      <td>3700720ENSAYO - Acido Clavulanico (USP VIGENTE...</td>\n      <td>mes 0</td>\n      <td>117.9</td>\n      <td>3700720ENSAYO - Acido Clavulanico (USP VIGENTE...</td>\n      <td>Si</td>\n      <td>G-AMOXICILINA 400 MG + ACIDO CLAVULANICO 57 MG...</td>\n      <td>J</td>\n    </tr>\n  </tbody>\n</table>\n<p>5 rows × 30 columns</p>\n</div>"
     },
     "metadata": {}
    }
   ],
   "execution_count": 30
  },
  {
   "cell_type": "markdown",
   "source": "### Duplicados \nLos duplicados causas fuga de datos que pueden ocacionar que el test se vea contaminado por datos que fueron tambien utlizados por el modelo de testeo. Esto sesga nuestros resultados y hace que las metricas sean poco confiables ",
   "metadata": {
    "cell_id": "f651606d44d7487297d4c18ff0d8a001",
    "tags": [],
    "deepnote_cell_type": "markdown",
    "deepnote_cell_height": 122.796875
   }
  },
  {
   "cell_type": "code",
   "source": "duplicate_count = len(df)-len(df.drop_duplicates()) \n#No hay duplicados \nduplicate_count",
   "metadata": {
    "cell_id": "630a2aef4fd14425932bdc57956d23ba",
    "tags": [],
    "deepnote_to_be_reexecuted": false,
    "source_hash": "b5c4c955",
    "execution_start": 1656562187810,
    "execution_millis": 242,
    "deepnote_cell_type": "code",
    "deepnote_cell_height": 154.1875,
    "deepnote_output_heights": [
     21.1875
    ]
   },
   "outputs": [
    {
     "output_type": "execute_result",
     "execution_count": 31,
     "data": {
      "text/plain": "0"
     },
     "metadata": {}
    }
   ],
   "execution_count": 31
  },
  {
   "cell_type": "markdown",
   "source": "### Missing data",
   "metadata": {
    "cell_id": "8cdaa7745158493da9e2378bd869894f",
    "tags": [],
    "deepnote_cell_type": "markdown",
    "deepnote_cell_height": 62
   },
   "outputs": [],
   "execution_count": null
  },
  {
   "cell_type": "code",
   "source": "df.isnull().sum().sort_values(ascending=False)/len(df) ",
   "metadata": {
    "cell_id": "a04bfd20536545228b86dfd5bffb9566",
    "tags": [],
    "deepnote_to_be_reexecuted": false,
    "source_hash": "b11554c0",
    "execution_start": 1656562188738,
    "execution_millis": 91,
    "deepnote_cell_type": "code",
    "deepnote_cell_height": 694.046875,
    "deepnote_output_heights": [
     597.046875
    ]
   },
   "outputs": [
    {
     "output_type": "execute_result",
     "execution_count": 32,
     "data": {
      "text/plain": "Concentración_x                0.832894\nMinimo                         0.332506\nvalue_resultado                0.238354\nMaximo                         0.199964\nForma farmacéutica_x           0.056254\nTamaño de lote                 0.001034\nDESCRIPCION_x                  0.000879\nDESCRIPCION_y                  0.000879\nCOD GRANEL                     0.000879\nATC                            0.000879\nNúmero de lote_y               0.000362\nvalue_fecha                    0.000336\nNúmero de lote_x               0.000000\nvariable_fecha                 0.000000\nCódigo producto                0.000000\nDentro_Rango                   0.000000\nKey_resultado                  0.000000\nDescripción_x                  0.000000\nvariable_resultado             0.000000\nKey_fecha                      0.000000\nPresentación_x                 0.000000\nCondición de almacenamiento    0.000000\nEstudio de estabilidad         0.000000\nNumeroPeriodosToma             0.000000\nUP                             0.000000\nTipo de estudio                0.000000\nFecha inicio estudio           0.000000\nEspecificación                 0.000000\nParámetro                      0.000000\nindex                          0.000000\ndtype: float64"
     },
     "metadata": {}
    }
   ],
   "execution_count": 32
  },
  {
   "cell_type": "code",
   "source": "# eliminar Concentración_x y Minimo (muchos nulos)\ndf_no_null = df.drop(columns=['Concentración_x','index', 'UP'], axis=1)\n\n\n#Fijar una semilla para la repartición de la data\nnp.random.seed(1997)\n# eliminar Concentración_x y Minimo (muchos nulos)\ndf_no_null = df.drop(columns=['Key_fecha','variable_fecha', 'Número de lote_x', 'Fecha inicio estudio'], axis=1)\ndf_no_null['description'] = df_no_null['Descripción_x'].str.split(' ').apply(lambda x: x[0])\n\ncolumb = df_no_null.columns\ndf_no_null[columb].nunique()",
   "metadata": {
    "cell_id": "26b253791cb74f7c90d95456acc37d80",
    "tags": [],
    "deepnote_to_be_reexecuted": false,
    "source_hash": "a3d6e54d",
    "execution_start": 1656562190866,
    "execution_millis": 332,
    "deepnote_cell_type": "code",
    "deepnote_cell_height": 834.46875,
    "deepnote_output_heights": [
     539.46875
    ]
   },
   "outputs": [
    {
     "output_type": "execute_result",
     "execution_count": 33,
     "data": {
      "text/plain": "index                          38682\nTipo de estudio                   19\nCódigo producto                  462\nDescripción_x                    441\nConcentración_x                   61\nForma farmacéutica_x              28\nPresentación_x                   192\nEstudio de estabilidad          1290\nTamaño de lote                   907\nCondición de almacenamiento        2\nParámetro                       1560\nEspecificación                   599\nCOD GRANEL                       316\nDESCRIPCION_x                    312\nUP                                 1\nNúmero de lote_y                 461\nNumeroPeriodosToma                 9\nMinimo                           140\nMaximo                           173\nvalue_fecha                      827\nvariable_resultado                15\nvalue_resultado                 4568\nKey_resultado                  38265\nDentro_Rango                       2\nDESCRIPCION_y                    312\nATC                               11\ndescription                      206\ndtype: int64"
     },
     "metadata": {}
    }
   ],
   "execution_count": 33
  },
  {
   "cell_type": "code",
   "source": "# Columnas categoricas \ncategorical_cols= [cname for cname in df_no_null.columns if df_no_null[cname].dtype == \"object\"]\n# Columnas Numericas \nint_cols = [cname for cname in df_no_null.columns if df_no_null[cname].dtype == \"int\"]\nfloat_cols = [cname for cname in df_no_null.columns if df_no_null[cname].dtype == \"float64\"]\n#Columna target \ntarget_col = ['ATC']\nnumb_cols = float_cols + int_cols \nall_cols =float_cols + int_cols + target_col\nall_cols",
   "metadata": {
    "cell_id": "67745f1a8038416daa1163945fb5dda2",
    "tags": [],
    "deepnote_to_be_reexecuted": false,
    "source_hash": "e800e704",
    "execution_start": 1656562192640,
    "execution_millis": 707,
    "deepnote_cell_type": "code",
    "deepnote_cell_height": 395.359375,
    "deepnote_output_heights": [
     136.359375
    ]
   },
   "outputs": [
    {
     "output_type": "execute_result",
     "execution_count": 34,
     "data": {
      "text/plain": "['COD GRANEL',\n 'Minimo',\n 'Maximo',\n 'index',\n 'Código producto',\n 'NumeroPeriodosToma',\n 'ATC']"
     },
     "metadata": {}
    }
   ],
   "execution_count": 34
  },
  {
   "cell_type": "code",
   "source": "df_final = df_no_null[all_cols].copy()\ndf_final = df_final.fillna(0)\ndf_final = df_final.replace(np.nan, 0)\n\n\ndf_final = df_final[df_final['ATC'] != 0]",
   "metadata": {
    "cell_id": "022a674da70e442abf9075eca5345c46",
    "tags": [],
    "deepnote_to_be_reexecuted": false,
    "source_hash": "bc94e8b1",
    "execution_start": 1656562195036,
    "execution_millis": 19,
    "deepnote_cell_type": "code",
    "deepnote_cell_height": 171,
    "deepnote_output_heights": [
     136.359375,
     136.359375
    ]
   },
   "outputs": [],
   "execution_count": 35
  },
  {
   "cell_type": "code",
   "source": "df_final.reset_index(drop=True, inplace=True)\ndf_final.replace([np.inf, -np.inf], 0, inplace=True)\ndf_final",
   "metadata": {
    "cell_id": "31b0bde44fd94d11bce28e6865021df5",
    "tags": [],
    "deepnote_to_be_reexecuted": false,
    "source_hash": "f0a98b0b",
    "execution_start": 1656562196660,
    "execution_millis": 51,
    "deepnote_cell_type": "code",
    "deepnote_cell_height": 636
   },
   "outputs": [
    {
     "output_type": "execute_result",
     "execution_count": 36,
     "data": {
      "application/vnd.deepnote.dataframe.v3+json": {
       "column_count": 7,
       "row_count": 38648,
       "columns": [
        {
         "name": "COD GRANEL",
         "dtype": "float64",
         "stats": {
          "unique_count": 316,
          "nan_count": 0,
          "min": "1414055.0",
          "max": "47960141.0",
          "histogram": [
           {
            "bin_start": 1414055,
            "bin_end": 6068663.6,
            "count": 2802
           },
           {
            "bin_start": 6068663.6,
            "bin_end": 10723272.2,
            "count": 22976
           },
           {
            "bin_start": 10723272.2,
            "bin_end": 15377880.799999999,
            "count": 0
           },
           {
            "bin_start": 15377880.799999999,
            "bin_end": 20032489.4,
            "count": 0
           },
           {
            "bin_start": 20032489.4,
            "bin_end": 24687098,
            "count": 0
           },
           {
            "bin_start": 24687098,
            "bin_end": 29341706.599999998,
            "count": 0
           },
           {
            "bin_start": 29341706.599999998,
            "bin_end": 33996315.199999996,
            "count": 0
           },
           {
            "bin_start": 33996315.199999996,
            "bin_end": 38650923.8,
            "count": 0
           },
           {
            "bin_start": 38650923.8,
            "bin_end": 43305532.4,
            "count": 306
           },
           {
            "bin_start": 43305532.4,
            "bin_end": 47960141,
            "count": 12564
           }
          ]
         }
        },
        {
         "name": "Minimo",
         "dtype": "float64",
         "stats": {
          "unique_count": 140,
          "nan_count": 0,
          "min": "0.0",
          "max": "22500.0",
          "histogram": [
           {
            "bin_start": 0,
            "bin_end": 2250,
            "count": 38615
           },
           {
            "bin_start": 2250,
            "bin_end": 4500,
            "count": 0
           },
           {
            "bin_start": 4500,
            "bin_end": 6750,
            "count": 22
           },
           {
            "bin_start": 6750,
            "bin_end": 9000,
            "count": 0
           },
           {
            "bin_start": 9000,
            "bin_end": 11250,
            "count": 0
           },
           {
            "bin_start": 11250,
            "bin_end": 13500,
            "count": 0
           },
           {
            "bin_start": 13500,
            "bin_end": 15750,
            "count": 0
           },
           {
            "bin_start": 15750,
            "bin_end": 18000,
            "count": 0
           },
           {
            "bin_start": 18000,
            "bin_end": 20250,
            "count": 0
           },
           {
            "bin_start": 20250,
            "bin_end": 22500,
            "count": 11
           }
          ]
         }
        },
        {
         "name": "Maximo",
         "dtype": "float64"
        },
        {
         "name": "index",
         "dtype": "int64"
        },
        {
         "name": "Código producto",
         "dtype": "int64"
        },
        {
         "name": "NumeroPeriodosToma",
         "dtype": "int64"
        },
        {
         "name": "ATC",
         "dtype": "object"
        },
        {
         "name": "_deepnote_index_column",
         "dtype": "int64"
        }
       ],
       "rows": [
        {
         "COD GRANEL": 41005136,
         "Minimo": 2.259,
         "Maximo": 2.761,
         "index": 0,
         "Código producto": 800617,
         "NumeroPeriodosToma": 5,
         "ATC": "N",
         "_deepnote_index_column": 0
        },
        {
         "COD GRANEL": 41005136,
         "Minimo": 585,
         "Maximo": 715,
         "index": 2,
         "Código producto": 800617,
         "NumeroPeriodosToma": 5,
         "ATC": "N",
         "_deepnote_index_column": 1
        },
        {
         "COD GRANEL": 41005136,
         "Minimo": 58.5,
         "Maximo": 71.5,
         "index": 4,
         "Código producto": 800617,
         "NumeroPeriodosToma": 5,
         "ATC": "N",
         "_deepnote_index_column": 2
        },
        {
         "COD GRANEL": 10033062,
         "Minimo": 90,
         "Maximo": 120,
         "index": 8,
         "Código producto": 700948,
         "NumeroPeriodosToma": 5,
         "ATC": "J",
         "_deepnote_index_column": 3
        },
        {
         "COD GRANEL": 10033062,
         "Minimo": 90,
         "Maximo": 125,
         "index": 9,
         "Código producto": 700948,
         "NumeroPeriodosToma": 5,
         "ATC": "J",
         "_deepnote_index_column": 4
        },
        {
         "COD GRANEL": 10033061,
         "Minimo": 90,
         "Maximo": 120,
         "index": 10,
         "Código producto": 700955,
         "NumeroPeriodosToma": 5,
         "ATC": "J",
         "_deepnote_index_column": 5
        },
        {
         "COD GRANEL": 10033061,
         "Minimo": 90,
         "Maximo": 125,
         "index": 11,
         "Código producto": 700955,
         "NumeroPeriodosToma": 5,
         "ATC": "J",
         "_deepnote_index_column": 6
        },
        {
         "COD GRANEL": 10033062,
         "Minimo": 90,
         "Maximo": 120,
         "index": 12,
         "Código producto": 700948,
         "NumeroPeriodosToma": 5,
         "ATC": "J",
         "_deepnote_index_column": 7
        },
        {
         "COD GRANEL": 10033062,
         "Minimo": 90,
         "Maximo": 125,
         "index": 13,
         "Código producto": 700948,
         "NumeroPeriodosToma": 5,
         "ATC": "J",
         "_deepnote_index_column": 8
        },
        {
         "COD GRANEL": 10033063,
         "Minimo": 90,
         "Maximo": 120,
         "index": 14,
         "Código producto": 700979,
         "NumeroPeriodosToma": 5,
         "ATC": "J",
         "_deepnote_index_column": 9
        }
       ]
      },
      "text/plain": "       COD GRANEL   Minimo   Maximo   index  Código producto  \\\n0      41005136.0    2.259    2.761       0           800617   \n1      41005136.0  585.000  715.000       2           800617   \n2      41005136.0   58.500   71.500       4           800617   \n3      10033062.0   90.000  120.000       8           700948   \n4      10033062.0   90.000  125.000       9           700948   \n...           ...      ...      ...     ...              ...   \n38643  10002044.0    0.000    0.000  107220            90016   \n38644  10002044.0    0.000    1.500  107221            90016   \n38645  47301665.0   36.000   44.000  107233           708874   \n38646  47301665.0   90.000  110.000  107234           708874   \n38647  47301665.0   80.000    0.000  107235           708874   \n\n       NumeroPeriodosToma ATC  \n0                       5   N  \n1                       5   N  \n2                       5   N  \n3                       5   J  \n4                       5   J  \n...                   ...  ..  \n38643                   4   M  \n38644                   4   M  \n38645                   4   C  \n38646                   3   C  \n38647                   4   C  \n\n[38648 rows x 7 columns]",
      "text/html": "<div>\n<style scoped>\n    .dataframe tbody tr th:only-of-type {\n        vertical-align: middle;\n    }\n\n    .dataframe tbody tr th {\n        vertical-align: top;\n    }\n\n    .dataframe thead th {\n        text-align: right;\n    }\n</style>\n<table border=\"1\" class=\"dataframe\">\n  <thead>\n    <tr style=\"text-align: right;\">\n      <th></th>\n      <th>COD GRANEL</th>\n      <th>Minimo</th>\n      <th>Maximo</th>\n      <th>index</th>\n      <th>Código producto</th>\n      <th>NumeroPeriodosToma</th>\n      <th>ATC</th>\n    </tr>\n  </thead>\n  <tbody>\n    <tr>\n      <th>0</th>\n      <td>41005136.0</td>\n      <td>2.259</td>\n      <td>2.761</td>\n      <td>0</td>\n      <td>800617</td>\n      <td>5</td>\n      <td>N</td>\n    </tr>\n    <tr>\n      <th>1</th>\n      <td>41005136.0</td>\n      <td>585.000</td>\n      <td>715.000</td>\n      <td>2</td>\n      <td>800617</td>\n      <td>5</td>\n      <td>N</td>\n    </tr>\n    <tr>\n      <th>2</th>\n      <td>41005136.0</td>\n      <td>58.500</td>\n      <td>71.500</td>\n      <td>4</td>\n      <td>800617</td>\n      <td>5</td>\n      <td>N</td>\n    </tr>\n    <tr>\n      <th>3</th>\n      <td>10033062.0</td>\n      <td>90.000</td>\n      <td>120.000</td>\n      <td>8</td>\n      <td>700948</td>\n      <td>5</td>\n      <td>J</td>\n    </tr>\n    <tr>\n      <th>4</th>\n      <td>10033062.0</td>\n      <td>90.000</td>\n      <td>125.000</td>\n      <td>9</td>\n      <td>700948</td>\n      <td>5</td>\n      <td>J</td>\n    </tr>\n    <tr>\n      <th>...</th>\n      <td>...</td>\n      <td>...</td>\n      <td>...</td>\n      <td>...</td>\n      <td>...</td>\n      <td>...</td>\n      <td>...</td>\n    </tr>\n    <tr>\n      <th>38643</th>\n      <td>10002044.0</td>\n      <td>0.000</td>\n      <td>0.000</td>\n      <td>107220</td>\n      <td>90016</td>\n      <td>4</td>\n      <td>M</td>\n    </tr>\n    <tr>\n      <th>38644</th>\n      <td>10002044.0</td>\n      <td>0.000</td>\n      <td>1.500</td>\n      <td>107221</td>\n      <td>90016</td>\n      <td>4</td>\n      <td>M</td>\n    </tr>\n    <tr>\n      <th>38645</th>\n      <td>47301665.0</td>\n      <td>36.000</td>\n      <td>44.000</td>\n      <td>107233</td>\n      <td>708874</td>\n      <td>4</td>\n      <td>C</td>\n    </tr>\n    <tr>\n      <th>38646</th>\n      <td>47301665.0</td>\n      <td>90.000</td>\n      <td>110.000</td>\n      <td>107234</td>\n      <td>708874</td>\n      <td>3</td>\n      <td>C</td>\n    </tr>\n    <tr>\n      <th>38647</th>\n      <td>47301665.0</td>\n      <td>80.000</td>\n      <td>0.000</td>\n      <td>107235</td>\n      <td>708874</td>\n      <td>4</td>\n      <td>C</td>\n    </tr>\n  </tbody>\n</table>\n<p>38648 rows × 7 columns</p>\n</div>"
     },
     "metadata": {}
    }
   ],
   "execution_count": 36
  },
  {
   "cell_type": "code",
   "source": "# Normalizar la data numerica \nfrom sklearn.preprocessing import MinMaxScaler\nscaler = MinMaxScaler()\ndf_final[numb_cols] = scaler.fit_transform(df_final[numb_cols])\n#df_final.ATC.replace(0,\"Z\")\n",
   "metadata": {
    "cell_id": "9945cf9f8cfb4094a3ce265df71caf24",
    "tags": [],
    "deepnote_to_be_reexecuted": false,
    "source_hash": "c5bfb1b5",
    "execution_start": 1656562211484,
    "execution_millis": 37,
    "deepnote_cell_type": "code",
    "deepnote_cell_height": 171
   },
   "outputs": [],
   "execution_count": 38
  },
  {
   "cell_type": "code",
   "source": "df_final\ndf_final = df_final.loc[(df_final != 0).any(axis=1)]",
   "metadata": {
    "cell_id": "3db337e0a35b41a0b93b4b2fb79e3382",
    "tags": [],
    "deepnote_to_be_reexecuted": false,
    "source_hash": "7ae5eb93",
    "execution_start": 1656562254854,
    "execution_millis": 18,
    "deepnote_cell_type": "code",
    "deepnote_cell_height": 99
   },
   "outputs": [],
   "execution_count": 43
  },
  {
   "cell_type": "code",
   "source": "df_final\nfrom sklearn import preprocessing\nle = preprocessing.LabelEncoder()\nle.fit(df_final.ATC)",
   "metadata": {
    "cell_id": "58ec53e6cab742a591d7f863ff0a2e41",
    "tags": [],
    "deepnote_to_be_reexecuted": false,
    "source_hash": "70bd5a43",
    "execution_start": 1656562302634,
    "execution_millis": 134,
    "deepnote_cell_type": "code",
    "deepnote_cell_height": 211.375,
    "deepnote_output_heights": [
     60.375
    ]
   },
   "outputs": [
    {
     "output_type": "execute_result",
     "execution_count": 53,
     "data": {
      "text/plain": "LabelEncoder()",
      "text/html": "<style>#sk-container-id-3 {color: black;background-color: white;}#sk-container-id-3 pre{padding: 0;}#sk-container-id-3 div.sk-toggleable {background-color: white;}#sk-container-id-3 label.sk-toggleable__label {cursor: pointer;display: block;width: 100%;margin-bottom: 0;padding: 0.3em;box-sizing: border-box;text-align: center;}#sk-container-id-3 label.sk-toggleable__label-arrow:before {content: \"▸\";float: left;margin-right: 0.25em;color: #696969;}#sk-container-id-3 label.sk-toggleable__label-arrow:hover:before {color: black;}#sk-container-id-3 div.sk-estimator:hover label.sk-toggleable__label-arrow:before {color: black;}#sk-container-id-3 div.sk-toggleable__content {max-height: 0;max-width: 0;overflow: hidden;text-align: left;background-color: #f0f8ff;}#sk-container-id-3 div.sk-toggleable__content pre {margin: 0.2em;color: black;border-radius: 0.25em;background-color: #f0f8ff;}#sk-container-id-3 input.sk-toggleable__control:checked~div.sk-toggleable__content {max-height: 200px;max-width: 100%;overflow: auto;}#sk-container-id-3 input.sk-toggleable__control:checked~label.sk-toggleable__label-arrow:before {content: \"▾\";}#sk-container-id-3 div.sk-estimator input.sk-toggleable__control:checked~label.sk-toggleable__label {background-color: #d4ebff;}#sk-container-id-3 div.sk-label input.sk-toggleable__control:checked~label.sk-toggleable__label {background-color: #d4ebff;}#sk-container-id-3 input.sk-hidden--visually {border: 0;clip: rect(1px 1px 1px 1px);clip: rect(1px, 1px, 1px, 1px);height: 1px;margin: -1px;overflow: hidden;padding: 0;position: absolute;width: 1px;}#sk-container-id-3 div.sk-estimator {font-family: monospace;background-color: #f0f8ff;border: 1px dotted black;border-radius: 0.25em;box-sizing: border-box;margin-bottom: 0.5em;}#sk-container-id-3 div.sk-estimator:hover {background-color: #d4ebff;}#sk-container-id-3 div.sk-parallel-item::after {content: \"\";width: 100%;border-bottom: 1px solid gray;flex-grow: 1;}#sk-container-id-3 div.sk-label:hover label.sk-toggleable__label {background-color: #d4ebff;}#sk-container-id-3 div.sk-serial::before {content: \"\";position: absolute;border-left: 1px solid gray;box-sizing: border-box;top: 0;bottom: 0;left: 50%;z-index: 0;}#sk-container-id-3 div.sk-serial {display: flex;flex-direction: column;align-items: center;background-color: white;padding-right: 0.2em;padding-left: 0.2em;position: relative;}#sk-container-id-3 div.sk-item {position: relative;z-index: 1;}#sk-container-id-3 div.sk-parallel {display: flex;align-items: stretch;justify-content: center;background-color: white;position: relative;}#sk-container-id-3 div.sk-item::before, #sk-container-id-3 div.sk-parallel-item::before {content: \"\";position: absolute;border-left: 1px solid gray;box-sizing: border-box;top: 0;bottom: 0;left: 50%;z-index: -1;}#sk-container-id-3 div.sk-parallel-item {display: flex;flex-direction: column;z-index: 1;position: relative;background-color: white;}#sk-container-id-3 div.sk-parallel-item:first-child::after {align-self: flex-end;width: 50%;}#sk-container-id-3 div.sk-parallel-item:last-child::after {align-self: flex-start;width: 50%;}#sk-container-id-3 div.sk-parallel-item:only-child::after {width: 0;}#sk-container-id-3 div.sk-dashed-wrapped {border: 1px dashed gray;margin: 0 0.4em 0.5em 0.4em;box-sizing: border-box;padding-bottom: 0.4em;background-color: white;}#sk-container-id-3 div.sk-label label {font-family: monospace;font-weight: bold;display: inline-block;line-height: 1.2em;}#sk-container-id-3 div.sk-label-container {text-align: center;}#sk-container-id-3 div.sk-container {/* jupyter's `normalize.less` sets `[hidden] { display: none; }` but bootstrap.min.css set `[hidden] { display: none !important; }` so we also need the `!important` here to be able to override the default hidden behavior on the sphinx rendered scikit-learn.org. See: https://github.com/scikit-learn/scikit-learn/issues/21755 */display: inline-block !important;position: relative;}#sk-container-id-3 div.sk-text-repr-fallback {display: none;}</style><div id=\"sk-container-id-3\" class=\"sk-top-container\"><div class=\"sk-text-repr-fallback\"><pre>LabelEncoder()</pre><b>In a Jupyter environment, please rerun this cell to show the HTML representation or trust the notebook. <br />On GitHub, the HTML representation is unable to render, please try loading this page with nbviewer.org.</b></div><div class=\"sk-container\" hidden><div class=\"sk-item\"><div class=\"sk-estimator sk-toggleable\"><input class=\"sk-toggleable__control sk-hidden--visually\" id=\"sk-estimator-id-3\" type=\"checkbox\" checked><label for=\"sk-estimator-id-3\" class=\"sk-toggleable__label sk-toggleable__label-arrow\">LabelEncoder</label><div class=\"sk-toggleable__content\"><pre>LabelEncoder()</pre></div></div></div></div></div>"
     },
     "metadata": {}
    }
   ],
   "execution_count": 53
  },
  {
   "cell_type": "code",
   "source": "# train test split \nfrom sklearn.model_selection import train_test_split\n\n# Prepare X and y\nX = df_final[numb_cols]\ny = le.transform(df_final[target_col])\n\nX_train, X_test, y_train, y_test = train_test_split(X, y, test_size = 0.3, random_state = 6)",
   "metadata": {
    "cell_id": "a7848a88e326421490f7d7a851ede07a",
    "tags": [],
    "deepnote_to_be_reexecuted": false,
    "source_hash": "44d444c9",
    "execution_start": 1656562913159,
    "execution_millis": 2,
    "deepnote_cell_type": "code",
    "deepnote_cell_height": 261.890625
   },
   "outputs": [
    {
     "name": "stderr",
     "text": "/shared-libs/python3.9/py/lib/python3.9/site-packages/sklearn/preprocessing/_label.py:133: DataConversionWarning: A column-vector y was passed when a 1d array was expected. Please change the shape of y to (n_samples, ), for example using ravel().\n  y = column_or_1d(y, warn=True)\n",
     "output_type": "stream"
    }
   ],
   "execution_count": 64
  },
  {
   "cell_type": "code",
   "source": "y",
   "metadata": {
    "cell_id": "e3acf1d5ea8f416386f2b12bd0d10a34",
    "tags": [],
    "deepnote_to_be_reexecuted": false,
    "source_hash": "ce04b77e",
    "execution_start": 1656562914379,
    "execution_millis": 4,
    "deepnote_cell_type": "code",
    "deepnote_cell_height": 118.1875,
    "deepnote_output_heights": [
     21.1875
    ]
   },
   "outputs": [
    {
     "output_type": "execute_result",
     "execution_count": 65,
     "data": {
      "text/plain": "array([8, 8, 8, ..., 2, 2, 2])"
     },
     "metadata": {}
    }
   ],
   "execution_count": 65
  },
  {
   "cell_type": "code",
   "source": "from sklearn.ensemble import RandomForestRegressor\n\nregressor = RandomForestRegressor(n_estimators=20, random_state=0)\nregressor.fit(X_train, y_train)\ny_pred = regressor.predict(X_test)",
   "metadata": {
    "cell_id": "d50c6919b8b14acaa563af1fc258cfe3",
    "tags": [],
    "deepnote_to_be_reexecuted": false,
    "source_hash": "24f51b45",
    "execution_start": 1656562657650,
    "execution_millis": 1028,
    "deepnote_cell_type": "code",
    "deepnote_cell_height": 153
   },
   "outputs": [],
   "execution_count": 60
  },
  {
   "cell_type": "code",
   "source": "from sklearn.metrics import mean_squared_error, mean_absolute_error, r2_score, max_error\nimport math\n\nmse = mean_squared_error(y_test, y_pred)\n\nrmse = math.sqrt(mse)\n\nmae = mean_absolute_error(y_test, y_pred)\n\nrsquared = r2_score(y_test, y_pred)\n\nmax_error = max_error(y_test, y_pred)",
   "metadata": {
    "cell_id": "4e2691e3e32541c68b02370292d6d26e",
    "tags": [],
    "deepnote_to_be_reexecuted": false,
    "source_hash": "917afa1d",
    "execution_start": 1656563174314,
    "execution_millis": 1,
    "deepnote_cell_type": "code",
    "deepnote_cell_height": 279,
    "deepnote_output_heights": [
     21.1875
    ]
   },
   "outputs": [],
   "execution_count": 70
  },
  {
   "cell_type": "code",
   "source": "print(mse)\nprint(rmse)\nprint(mae)\nprint(rsquared)\nprint(max_error)",
   "metadata": {
    "cell_id": "248cc2c564b44645b895b725a9673b66",
    "tags": [],
    "deepnote_to_be_reexecuted": false,
    "source_hash": "2f5a5d2d",
    "execution_start": 1656563214728,
    "execution_millis": 0,
    "deepnote_cell_type": "code",
    "deepnote_cell_height": 262.46875,
    "deepnote_output_heights": [
     21.1875
    ]
   },
   "outputs": [
    {
     "name": "stdout",
     "text": "0.02184691677447176\n0.1478070254570863\n0.006192324277705906\n0.9979495965469081\n6.5\n",
     "output_type": "stream"
    }
   ],
   "execution_count": 76
  },
  {
   "cell_type": "markdown",
   "source": "<a style='text-decoration:none;line-height:16px;display:flex;color:#5B5B62;padding:10px;justify-content:end;' href='https://deepnote.com?utm_source=created-in-deepnote-cell&projectId=f5d62f80-4c81-40d8-8d01-a7d7e064d61e' target=\"_blank\">\n<img alt='Created in deepnote.com' style='display:inline;max-height:16px;margin:0px;margin-right:7.5px;' src='data:image/svg+xml;base64,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' > </img>\nCreated in <span style='font-weight:600;margin-left:4px;'>Deepnote</span></a>",
   "metadata": {
    "tags": [],
    "created_in_deepnote_cell": true,
    "deepnote_cell_type": "markdown"
   }
  }
 ],
 "nbformat": 4,
 "nbformat_minor": 2,
 "metadata": {
  "orig_nbformat": 2,
  "deepnote": {},
  "deepnote_notebook_id": "c5501a6b-7783-4d31-9010-b08f041fd505",
  "deepnote_execution_queue": []
 }
}